{
  "nbformat": 4,
  "nbformat_minor": 0,
  "metadata": {
    "colab": {
      "name": "Text_data_classification_eng_EDA_and_preprocessing.ipynb",
      "provenance": [],
      "collapsed_sections": [],
      "include_colab_link": true
    },
    "kernelspec": {
      "name": "python3",
      "display_name": "Python 3"
    },
    "accelerator": "GPU"
  },
  "cells": [
    {
      "cell_type": "markdown",
      "metadata": {
        "id": "view-in-github",
        "colab_type": "text"
      },
      "source": [
        "<a href=\"https://colab.research.google.com/github/jg116907/BOJ_algorithm/blob/master/Text_data_classification_eng_EDA_and_preprocessing.ipynb\" target=\"_parent\"><img src=\"https://colab.research.google.com/assets/colab-badge.svg\" alt=\"Open In Colab\"/></a>"
      ]
    },
    {
      "cell_type": "markdown",
      "metadata": {
        "id": "rAed-cJb4CQH",
        "colab_type": "text"
      },
      "source": [
        "# 텍스트 분류\n",
        "- 자연어 처리 기술을 활용해 글의 정보를 추출해서 문제에 맞게 사람이 정한 범주(Class)로 분류하는 문제\n"
      ]
    },
    {
      "cell_type": "markdown",
      "metadata": {
        "id": "jRbxmT684-oY",
        "colab_type": "text"
      },
      "source": [
        "## 영어 텍스트 분류\n",
        "- Kaggle의 Bag of Words Meets Bags of Popcorn 데이터를 이용한 감정 분류 실습\n",
        "### 1. EDA"
      ]
    },
    {
      "cell_type": "code",
      "metadata": {
        "id": "hIBwleZ_3zyK",
        "colab_type": "code",
        "outputId": "5a59cd85-b388-4f11-8839-ec8b65af9b07",
        "colab": {
          "base_uri": "https://localhost:8080/",
          "height": 246
        }
      },
      "source": [
        "!mkdir -p ~/.kaggle\n",
        "!cp kaggle.json ~/.kaggle/\n",
        "# 자신의 kaggle account에서 api key 생성 후 kaggle.json 업로드\n",
        "!chmod 600 ~/.kaggle/kaggle.json\n",
        "!kaggle competitions download -c word2vec-nlp-tutorial"
      ],
      "execution_count": 4,
      "outputs": [
        {
          "output_type": "stream",
          "text": [
            "Warning: Looks like you're using an outdated API Version, please consider updating (server 1.5.6 / client 1.5.4)\n",
            "Downloading sampleSubmission.csv to /content\n",
            "  0% 0.00/276k [00:00<?, ?B/s]\n",
            "100% 276k/276k [00:00<00:00, 41.8MB/s]\n",
            "Downloading unlabeledTrainData.tsv.zip to /content\n",
            " 42% 11.0M/26.0M [00:00<00:00, 21.6MB/s]\n",
            "100% 26.0M/26.0M [00:00<00:00, 52.9MB/s]\n",
            "Downloading testData.tsv.zip to /content\n",
            " 71% 9.00M/12.6M [00:00<00:00, 24.5MB/s]\n",
            "100% 12.6M/12.6M [00:00<00:00, 32.0MB/s]\n",
            "Downloading labeledTrainData.tsv.zip to /content\n",
            " 69% 9.00M/13.0M [00:00<00:00, 24.9MB/s]\n",
            "100% 13.0M/13.0M [00:00<00:00, 32.4MB/s]\n"
          ],
          "name": "stdout"
        }
      ]
    },
    {
      "cell_type": "code",
      "metadata": {
        "id": "Ptevzlsk7Zh4",
        "colab_type": "code",
        "colab": {}
      },
      "source": [
        "# 압축 해제\n",
        "import zipfile\n",
        "\n",
        "DATA_IN_PATH = '/content/'\n",
        "file_list=['labeledTrainData.tsv.zip','testData.tsv.zip','unlabeledTrainData.tsv.zip']\n",
        "for file in file_list:\n",
        "  zipRef = zipfile.ZipFile(DATA_IN_PATH + file,\"r\")\n",
        "  zipRef.extractall(DATA_IN_PATH)\n",
        "  zipRef.close()"
      ],
      "execution_count": 0,
      "outputs": []
    },
    {
      "cell_type": "code",
      "metadata": {
        "id": "Z8c6SNqJELzl",
        "colab_type": "code",
        "colab": {}
      },
      "source": [
        "import numpy as np\n",
        "import pandas as pd\n",
        "import os\n",
        "import matplotlib.pyplot as plt\n",
        "import seaborn as sns\n",
        "%matplotlib inline"
      ],
      "execution_count": 0,
      "outputs": []
    },
    {
      "cell_type": "code",
      "metadata": {
        "id": "GqeY69LbG2Ch",
        "colab_type": "code",
        "colab": {}
      },
      "source": [
        "train_data = pd.read_csv(DATA_IN_PATH+\"labeledTrainData.tsv\",header=0,delimiter=\"\\t\",quoting=3)"
      ],
      "execution_count": 0,
      "outputs": []
    },
    {
      "cell_type": "code",
      "metadata": {
        "id": "j9JWJhYyHR48",
        "colab_type": "code",
        "colab": {
          "base_uri": "https://localhost:8080/",
          "height": 195
        },
        "outputId": "c690a11a-3ac8-4505-850b-309a5eb82009"
      },
      "source": [
        "train_data.head()"
      ],
      "execution_count": 10,
      "outputs": [
        {
          "output_type": "execute_result",
          "data": {
            "text/html": [
              "<div>\n",
              "<style scoped>\n",
              "    .dataframe tbody tr th:only-of-type {\n",
              "        vertical-align: middle;\n",
              "    }\n",
              "\n",
              "    .dataframe tbody tr th {\n",
              "        vertical-align: top;\n",
              "    }\n",
              "\n",
              "    .dataframe thead th {\n",
              "        text-align: right;\n",
              "    }\n",
              "</style>\n",
              "<table border=\"1\" class=\"dataframe\">\n",
              "  <thead>\n",
              "    <tr style=\"text-align: right;\">\n",
              "      <th></th>\n",
              "      <th>id</th>\n",
              "      <th>sentiment</th>\n",
              "      <th>review</th>\n",
              "    </tr>\n",
              "  </thead>\n",
              "  <tbody>\n",
              "    <tr>\n",
              "      <th>0</th>\n",
              "      <td>\"5814_8\"</td>\n",
              "      <td>1</td>\n",
              "      <td>\"With all this stuff going down at the moment ...</td>\n",
              "    </tr>\n",
              "    <tr>\n",
              "      <th>1</th>\n",
              "      <td>\"2381_9\"</td>\n",
              "      <td>1</td>\n",
              "      <td>\"\\\"The Classic War of the Worlds\\\" by Timothy ...</td>\n",
              "    </tr>\n",
              "    <tr>\n",
              "      <th>2</th>\n",
              "      <td>\"7759_3\"</td>\n",
              "      <td>0</td>\n",
              "      <td>\"The film starts with a manager (Nicholas Bell...</td>\n",
              "    </tr>\n",
              "    <tr>\n",
              "      <th>3</th>\n",
              "      <td>\"3630_4\"</td>\n",
              "      <td>0</td>\n",
              "      <td>\"It must be assumed that those who praised thi...</td>\n",
              "    </tr>\n",
              "    <tr>\n",
              "      <th>4</th>\n",
              "      <td>\"9495_8\"</td>\n",
              "      <td>1</td>\n",
              "      <td>\"Superbly trashy and wondrously unpretentious ...</td>\n",
              "    </tr>\n",
              "  </tbody>\n",
              "</table>\n",
              "</div>"
            ],
            "text/plain": [
              "         id  sentiment                                             review\n",
              "0  \"5814_8\"          1  \"With all this stuff going down at the moment ...\n",
              "1  \"2381_9\"          1  \"\\\"The Classic War of the Worlds\\\" by Timothy ...\n",
              "2  \"7759_3\"          0  \"The film starts with a manager (Nicholas Bell...\n",
              "3  \"3630_4\"          0  \"It must be assumed that those who praised thi...\n",
              "4  \"9495_8\"          1  \"Superbly trashy and wondrously unpretentious ..."
            ]
          },
          "metadata": {
            "tags": []
          },
          "execution_count": 10
        }
      ]
    },
    {
      "cell_type": "markdown",
      "metadata": {
        "id": "Hs4hVYFWHkjg",
        "colab_type": "text"
      },
      "source": [
        "1. 데이터의 크기 확인"
      ]
    },
    {
      "cell_type": "code",
      "metadata": {
        "id": "9t7C-iryHbPR",
        "colab_type": "code",
        "colab": {
          "base_uri": "https://localhost:8080/",
          "height": 87
        },
        "outputId": "1964eb9f-aefe-4a67-bbe8-e2d2e7c5abd4"
      },
      "source": [
        "print(\"파일 크기 : \")\n",
        "for file in os.listdir(DATA_IN_PATH):\n",
        "  if 'tsv' in file and 'zip' not in file:\n",
        "    print(file.ljust(30) + str(round(os.path.getsize(DATA_IN_PATH + file)/1000000,2))+'MB')"
      ],
      "execution_count": 11,
      "outputs": [
        {
          "output_type": "stream",
          "text": [
            "파일 크기 : \n",
            "labeledTrainData.tsv          33.56MB\n",
            "unlabeledTrainData.tsv        67.28MB\n",
            "testData.tsv                  32.72MB\n"
          ],
          "name": "stdout"
        }
      ]
    },
    {
      "cell_type": "markdown",
      "metadata": {
        "id": "nC95BzfYIr_n",
        "colab_type": "text"
      },
      "source": [
        "2. 데이터의 개수 확인"
      ]
    },
    {
      "cell_type": "code",
      "metadata": {
        "id": "bPGVbaatIoZz",
        "colab_type": "code",
        "colab": {
          "base_uri": "https://localhost:8080/",
          "height": 34
        },
        "outputId": "5a8ffed8-e387-45ad-861f-4cc09e4825a2"
      },
      "source": [
        "print(\"전체 학습 데이터의 개수 :\",len(train_data))"
      ],
      "execution_count": 12,
      "outputs": [
        {
          "output_type": "stream",
          "text": [
            "전체 학습 데이터의 개수 : 25000\n"
          ],
          "name": "stdout"
        }
      ]
    },
    {
      "cell_type": "markdown",
      "metadata": {
        "id": "xXvJWLNaORWc",
        "colab_type": "text"
      },
      "source": [
        "3. 각 리뷰의 길이 분포"
      ]
    },
    {
      "cell_type": "code",
      "metadata": {
        "id": "yZbfVo5IJp37",
        "colab_type": "code",
        "colab": {
          "base_uri": "https://localhost:8080/",
          "height": 122
        },
        "outputId": "ad9191e0-24de-496e-bdf9-427c85f2ab64"
      },
      "source": [
        "train_length = train_data['review'].apply(len)\n",
        "train_length.head()"
      ],
      "execution_count": 13,
      "outputs": [
        {
          "output_type": "execute_result",
          "data": {
            "text/plain": [
              "0    2304\n",
              "1     948\n",
              "2    2451\n",
              "3    2247\n",
              "4    2233\n",
              "Name: review, dtype: int64"
            ]
          },
          "metadata": {
            "tags": []
          },
          "execution_count": 13
        }
      ]
    },
    {
      "cell_type": "code",
      "metadata": {
        "id": "0-1E1bxyLbp1",
        "colab_type": "code",
        "colab": {
          "base_uri": "https://localhost:8080/",
          "height": 350
        },
        "outputId": "3e11deff-876f-40de-9fdb-e94c9710254b"
      },
      "source": [
        "# 각 리뷰의 길이 시각화\n",
        "plt.figure(figsize=(12,5))\n",
        "plt.hist(train_length,bins=200,alpha=0.5,color='r',label='word')\n",
        "plt.yscale('log',nonposy='clip')\n",
        "plt.title('Log-Histogram of length of review')\n",
        "plt.xlabel('Length of review')\n",
        "plt.ylabel('Number of review')\n",
        "plt.show()"
      ],
      "execution_count": 14,
      "outputs": [
        {
          "output_type": "display_data",
          "data": {
            "image/png": "[encoded data removed]",
            "text/plain": [
              "<Figure size 864x360 with 1 Axes>"
            ]
          },
          "metadata": {
            "tags": []
          }
        }
      ]
    },
    {
      "cell_type": "code",
      "metadata": {
        "id": "RESteB3rMVou",
        "colab_type": "code",
        "colab": {
          "base_uri": "https://localhost:8080/",
          "height": 140
        },
        "outputId": "c711e0e6-3436-4a8d-c3d9-472592df060f"
      },
      "source": [
        "# 리뷰 길이에 대한 통계값 확인\n",
        "import numpy as np\n",
        "\n",
        "print(\"리뷰 최대 길이 : \",np.max(train_length))\n",
        "print(\"리뷰 최소 길이 : \",np.min(train_length))\n",
        "print(\"리뷰 평균 길이 : \",np.mean(train_length))\n",
        "print(\"리뷰 길이 표준편차 : \",np.std(train_length))\n",
        "print(\"리뷰 중간 길이 : \",np.median(train_length))\n",
        "print(\"제 1사분위 길이 : \",np.percentile(train_length,25))\n",
        "print(\"제 3사분위 길이 : \",np.percentile(train_length,75))"
      ],
      "execution_count": 15,
      "outputs": [
        {
          "output_type": "stream",
          "text": [
            "리뷰 최대 길이 :  13710\n",
            "리뷰 최소 길이 :  54\n",
            "리뷰 평균 길이 :  1329.71056\n",
            "리뷰 길이 표준편차 :  1005.2191407969154\n",
            "리뷰 중간 길이 :  983.0\n",
            "제 1사분위 길이 :  705.0\n",
            "제 3사분위 길이 :  1619.0\n"
          ],
          "name": "stdout"
        }
      ]
    },
    {
      "cell_type": "markdown",
      "metadata": {
        "id": "KBEMfD8lQGlW",
        "colab_type": "text"
      },
      "source": [
        "4. 각 리뷰의 단어 개수 분포"
      ]
    },
    {
      "cell_type": "code",
      "metadata": {
        "id": "SG8lnYZoOtXn",
        "colab_type": "code",
        "colab": {}
      },
      "source": [
        "train_word_count = train_data['review'].apply(lambda x:len(x.split(' ')))"
      ],
      "execution_count": 0,
      "outputs": []
    },
    {
      "cell_type": "code",
      "metadata": {
        "id": "G-PKPkk6Qap3",
        "colab_type": "code",
        "colab": {
          "base_uri": "https://localhost:8080/",
          "height": 357
        },
        "outputId": "6e094799-42a6-41ff-8726-9b1ca9446a40"
      },
      "source": [
        "# 시각화\n",
        "plt.figure(figsize=(12,5))\n",
        "plt.hist(train_length,bins=50,color='r',label='train')\n",
        "plt.yscale('log',nonposy='clip')\n",
        "plt.title('Log-Histogram of word count in review',fontsize=15)\n",
        "plt.xlabel('Length of review',fontsize=15)\n",
        "plt.ylabel('Number of review',fontsize=15)\n",
        "plt.legend()\n",
        "plt.show()"
      ],
      "execution_count": 43,
      "outputs": [
        {
          "output_type": "display_data",
          "data": {
            "image/png": "[encoded data removed]",
            "text/plain": [
              "<Figure size 864x360 with 1 Axes>"
            ]
          },
          "metadata": {
            "tags": []
          }
        }
      ]
    },
    {
      "cell_type": "code",
      "metadata": {
        "id": "mHGDwwrJRBE1",
        "colab_type": "code",
        "colab": {
          "base_uri": "https://localhost:8080/",
          "height": 140
        },
        "outputId": "1aeb8907-0aaa-4eb6-99de-bfad83ec8961"
      },
      "source": [
        "print(\"리뷰 단어 개수 최대값 : \",np.max(train_word_count))\n",
        "print(\"리뷰 단어 개수 최소값 : \",np.min(train_word_count))\n",
        "print(\"리뷰 단어 개수 평균값 : \",np.mean(train_word_count))\n",
        "print(\"리뷰 단어 개수 표준편차 : \",np.std(train_word_count))\n",
        "print(\"리뷰 단어 개수 중간값 : \",np.median(train_word_count))\n",
        "print(\"리뷰 단어 개수 제 1사분위 : \",np.percentile(train_word_count,25))\n",
        "print(\"리뷰 단어 개수 제 3사분위 : \",np.percentile(train_word_count,75))"
      ],
      "execution_count": 18,
      "outputs": [
        {
          "output_type": "stream",
          "text": [
            "리뷰 단어 개수 최대값 :  2470\n",
            "리뷰 단어 개수 최소값 :  10\n",
            "리뷰 단어 개수 평균값 :  233.78624\n",
            "리뷰 단어 개수 표준편차 :  173.74237015380743\n",
            "리뷰 단어 개수 중간값 :  174.0\n",
            "리뷰 단어 개수 제 1사분위 :  127.0\n",
            "리뷰 단어 개수 제 3사분위 :  284.0\n"
          ],
          "name": "stdout"
        }
      ]
    },
    {
      "cell_type": "markdown",
      "metadata": {
        "id": "eoy7rRyJaKto",
        "colab_type": "text"
      },
      "source": [
        "5. 각 리뷰의 구두점, 대소문자 비율"
      ]
    },
    {
      "cell_type": "code",
      "metadata": {
        "id": "whmQmSjsX7rj",
        "colab_type": "code",
        "colab": {
          "base_uri": "https://localhost:8080/",
          "height": 105
        },
        "outputId": "f8b2eec1-5b8e-4c11-b133-4c525ba4209f"
      },
      "source": [
        "qmarks = np.mean(train_data['review'].apply(lambda x: '?' in x)) # 물음표가 구두점으로 쓰임\n",
        "fullstop = np.mean(train_data['review'].apply(lambda x: '.' in x)) # 마침표\n",
        "capital_first = np.mean(train_data['review'].apply(lambda x: x[0].isupper())) # 첫 번째 대문자\n",
        "capitals = np.mean(train_data['review'].apply(lambda x: max([y.isupper() for y in x]))) # 대문자 개수\n",
        "numbers = np.mean(train_data['review'].apply(lambda x: max([y.isdigit() for y in x]))) # 숫자 개수\n",
        "\n",
        "print(\"물음표가 있는 리뷰 : {:.2f}%\".format(qmarks*100))\n",
        "print(\"마침표가 있는 리뷰 : {:.2f}%\".format(fullstop*100))\n",
        "print(\"첫 글자가 대문자인 리뷰 : {:.2f}%\".format(capital_first*100))\n",
        "print(\"대문자가 있는 리뷰 : {:.2f}%\".format(capitals*100))\n",
        "print(\"숫자가 있는 리뷰 : {:.2f}%\".format(numbers*100))"
      ],
      "execution_count": 19,
      "outputs": [
        {
          "output_type": "stream",
          "text": [
            "물음표가 있는 리뷰 : 29.55%\n",
            "마침표가 있는 리뷰 : 99.69%\n",
            "첫 글자가 대문자인 리뷰 : 0.00%\n",
            "대문자가 있는 리뷰 : 99.59%\n",
            "숫자가 있는 리뷰 : 56.66%\n"
          ],
          "name": "stdout"
        }
      ]
    },
    {
      "cell_type": "markdown",
      "metadata": {
        "id": "b9FfKqNjPbrx",
        "colab_type": "text"
      },
      "source": [
        "6. 기타 box plot 이상치 확인, word cloud, 감정 분류 등을 통해 데이터 확인"
      ]
    },
    {
      "cell_type": "markdown",
      "metadata": {
        "id": "CEZYyzL5aYtt",
        "colab_type": "text"
      },
      "source": [
        "### 2. 데이터 전처리"
      ]
    },
    {
      "cell_type": "code",
      "metadata": {
        "id": "qpID3CpvabPP",
        "colab_type": "code",
        "colab": {}
      },
      "source": [
        "import re # 데이터 정제\n",
        "import pandas as pd\n",
        "import numpy as np# 전처리된 데이터 저장\n",
        "import json\n",
        "from bs4 import BeautifulSoup # 데이터 정제\n",
        "from nltk.corpus import stopwords # 불용어 제거\n",
        "from tensorflow.python.keras.preprocessing.sequence import pad_sequences # 전처리 모듈\n",
        "from tensorflow.python.keras.preprocessing.text import Tokenizer # 전처리 모듈"
      ],
      "execution_count": 0,
      "outputs": []
    },
    {
      "cell_type": "code",
      "metadata": {
        "id": "uIR742_v1yKK",
        "colab_type": "code",
        "colab": {}
      },
      "source": [
        "DATA_IN_PATH = '/content/'\n",
        "train_data = pd.read_csv(DATA_IN_PATH+\"labeledTrainData.tsv\",header=0,delimiter='\\t',quoting=3)"
      ],
      "execution_count": 0,
      "outputs": []
    },
    {
      "cell_type": "code",
      "metadata": {
        "id": "XZIcPFzMnds6",
        "colab_type": "code",
        "colab": {
          "base_uri": "https://localhost:8080/",
          "height": 54
        },
        "outputId": "0c49f95b-7d93-4770-c74e-cd79dad6371b"
      },
      "source": [
        "print(train_data['review'][0]) # 첫번째 리뷰 데이터"
      ],
      "execution_count": 22,
      "outputs": [
        {
          "output_type": "stream",
          "text": [
            "\"With all this stuff going down at the moment with MJ i've started listening to his music, watching the odd documentary here and there, watched The Wiz and watched Moonwalker again. Maybe i just want to get a certain insight into this guy who i thought was really cool in the eighties just to maybe make up my mind whether he is guilty or innocent. Moonwalker is part biography, part feature film which i remember going to see at the cinema when it was originally released. Some of it has subtle messages about MJ's feeling towards the press and also the obvious message of drugs are bad m'kay.<br /><br />Visually impressive but of course this is all about Michael Jackson so unless you remotely like MJ in anyway then you are going to hate this and find it boring. Some may call MJ an egotist for consenting to the making of this movie BUT MJ and most of his fans would say that he made it for the fans which if true is really nice of him.<br /><br />The actual feature film bit when it finally starts is only on for 20 minutes or so excluding the Smooth Criminal sequence and Joe Pesci is convincing as a psychopathic all powerful drug lord. Why he wants MJ dead so bad is beyond me. Because MJ overheard his plans? Nah, Joe Pesci's character ranted that he wanted people to know it is he who is supplying drugs etc so i dunno, maybe he just hates MJ's music.<br /><br />Lots of cool things in this like MJ turning into a car and a robot and the whole Speed Demon sequence. Also, the director must have had the patience of a saint when it came to filming the kiddy Bad sequence as usually directors hate working with one kid let alone a whole bunch of them performing a complex dance scene.<br /><br />Bottom line, this movie is for people who like MJ on one level or another (which i think is most people). If not, then stay away. It does try and give off a wholesome message and ironically MJ's bestest buddy in this movie is a girl! Michael Jackson is truly one of the most talented people ever to grace this planet but is he guilty? Well, with all the attention i've gave this subject....hmmm well i don't know because people can be different behind closed doors, i know this for a fact. He is either an extremely nice but stupid guy or one of the most sickest liars. I hope he is not the latter.\"\n"
          ],
          "name": "stdout"
        }
      ]
    },
    {
      "cell_type": "code",
      "metadata": {
        "id": "ayhhYUSQo8uT",
        "colab_type": "code",
        "colab": {}
      },
      "source": [
        "# HTML 태그와 특수문자 제거\n",
        "review = train_data['review'][0] # 리뷰 중 하나를 가져온다\n",
        "review_text = BeautifulSoup(review,\"html5lib\").get_text () # HTML 태그 제거\n",
        "review_text = re.sub(\"[^a-zA-Z]\",\" \",review_text) # 영어 문자를 제외한 나머지 모두를 공백으로 바꾼다"
      ],
      "execution_count": 0,
      "outputs": []
    },
    {
      "cell_type": "code",
      "metadata": {
        "id": "Jujs7XHOp65D",
        "colab_type": "code",
        "colab": {
          "base_uri": "https://localhost:8080/",
          "height": 54
        },
        "outputId": "a156ce9a-11fc-462e-a958-fcc30f4ecfb0"
      },
      "source": [
        "print(review_text)"
      ],
      "execution_count": 22,
      "outputs": [
        {
          "output_type": "stream",
          "text": [
            " With all this stuff going down at the moment with MJ i ve started listening to his music  watching the odd documentary here and there  watched The Wiz and watched Moonwalker again  Maybe i just want to get a certain insight into this guy who i thought was really cool in the eighties just to maybe make up my mind whether he is guilty or innocent  Moonwalker is part biography  part feature film which i remember going to see at the cinema when it was originally released  Some of it has subtle messages about MJ s feeling towards the press and also the obvious message of drugs are bad m kay Visually impressive but of course this is all about Michael Jackson so unless you remotely like MJ in anyway then you are going to hate this and find it boring  Some may call MJ an egotist for consenting to the making of this movie BUT MJ and most of his fans would say that he made it for the fans which if true is really nice of him The actual feature film bit when it finally starts is only on for    minutes or so excluding the Smooth Criminal sequence and Joe Pesci is convincing as a psychopathic all powerful drug lord  Why he wants MJ dead so bad is beyond me  Because MJ overheard his plans  Nah  Joe Pesci s character ranted that he wanted people to know it is he who is supplying drugs etc so i dunno  maybe he just hates MJ s music Lots of cool things in this like MJ turning into a car and a robot and the whole Speed Demon sequence  Also  the director must have had the patience of a saint when it came to filming the kiddy Bad sequence as usually directors hate working with one kid let alone a whole bunch of them performing a complex dance scene Bottom line  this movie is for people who like MJ on one level or another  which i think is most people   If not  then stay away  It does try and give off a wholesome message and ironically MJ s bestest buddy in this movie is a girl  Michael Jackson is truly one of the most talented people ever to grace this planet but is he guilty  Well  with all the attention i ve gave this subject    hmmm well i don t know because people can be different behind closed doors  i know this for a fact  He is either an extremely nice but stupid guy or one of the most sickest liars  I hope he is not the latter  \n"
          ],
          "name": "stdout"
        }
      ]
    },
    {
      "cell_type": "code",
      "metadata": {
        "id": "TPLfd49ftWES",
        "colab_type": "code",
        "colab": {
          "base_uri": "https://localhost:8080/",
          "height": 70
        },
        "outputId": "978ddf58-fb9f-4302-f9ff-cd171c627740"
      },
      "source": [
        "# 불용어 제거 - 문장에서 자주 출현하나 전체적인 의미에 큰 영향을 주지 않는 단어\n",
        "# 감정 판단에는 영향을 주지 않는다고 판단하에 불용어 제거\n",
        "# NLTK의 불용어 사전을 사용하는데, 사전은 전부 소문자 단어로 구성돼 있기 때문에 모든 단어를 소문자로 변경 후 불용어를 제거\n",
        "import nltk\n",
        "nltk.download('stopwords')"
      ],
      "execution_count": 23,
      "outputs": [
        {
          "output_type": "stream",
          "text": [
            "[nltk_data] Downloading package stopwords to /root/nltk_data...\n",
            "[nltk_data]   Unzipping corpora/stopwords.zip.\n"
          ],
          "name": "stdout"
        },
        {
          "output_type": "execute_result",
          "data": {
            "text/plain": [
              "True"
            ]
          },
          "metadata": {
            "tags": []
          },
          "execution_count": 23
        }
      ]
    },
    {
      "cell_type": "code",
      "metadata": {
        "id": "hpJcn6Rap-S2",
        "colab_type": "code",
        "colab": {}
      },
      "source": [
        "stop_words = set(stopwords.words('english')) # 영어 불용어 set\n",
        "\n",
        "review_text = review_text.lower()\n",
        "words = review_text.split() # 소분자로 변환 후 단어마다 나눔\n",
        "words = [w for w in words if not w in stop_words] # 불용어를 제거한 리스트 생성"
      ],
      "execution_count": 0,
      "outputs": []
    },
    {
      "cell_type": "code",
      "metadata": {
        "id": "Ab55HW4psycc",
        "colab_type": "code",
        "colab": {
          "base_uri": "https://localhost:8080/",
          "height": 54
        },
        "outputId": "95fa413e-d7d7-43b0-d346-52b4655722cf"
      },
      "source": [
        "print(words)"
      ],
      "execution_count": 27,
      "outputs": [
        {
          "output_type": "stream",
          "text": [
            "['stuff', 'going', 'moment', 'mj', 'started', 'listening', 'music', 'watching', 'odd', 'documentary', 'watched', 'wiz', 'watched', 'moonwalker', 'maybe', 'want', 'get', 'certain', 'insight', 'guy', 'thought', 'really', 'cool', 'eighties', 'maybe', 'make', 'mind', 'whether', 'guilty', 'innocent', 'moonwalker', 'part', 'biography', 'part', 'feature', 'film', 'remember', 'going', 'see', 'cinema', 'originally', 'released', 'subtle', 'messages', 'mj', 'feeling', 'towards', 'press', 'also', 'obvious', 'message', 'drugs', 'bad', 'kay', 'visually', 'impressive', 'course', 'michael', 'jackson', 'unless', 'remotely', 'like', 'mj', 'anyway', 'going', 'hate', 'find', 'boring', 'may', 'call', 'mj', 'egotist', 'consenting', 'making', 'movie', 'mj', 'fans', 'would', 'say', 'made', 'fans', 'true', 'really', 'nice', 'actual', 'feature', 'film', 'bit', 'finally', 'starts', 'minutes', 'excluding', 'smooth', 'criminal', 'sequence', 'joe', 'pesci', 'convincing', 'psychopathic', 'powerful', 'drug', 'lord', 'wants', 'mj', 'dead', 'bad', 'beyond', 'mj', 'overheard', 'plans', 'nah', 'joe', 'pesci', 'character', 'ranted', 'wanted', 'people', 'know', 'supplying', 'drugs', 'etc', 'dunno', 'maybe', 'hates', 'mj', 'music', 'lots', 'cool', 'things', 'like', 'mj', 'turning', 'car', 'robot', 'whole', 'speed', 'demon', 'sequence', 'also', 'director', 'must', 'patience', 'saint', 'came', 'filming', 'kiddy', 'bad', 'sequence', 'usually', 'directors', 'hate', 'working', 'one', 'kid', 'let', 'alone', 'whole', 'bunch', 'performing', 'complex', 'dance', 'scene', 'bottom', 'line', 'movie', 'people', 'like', 'mj', 'one', 'level', 'another', 'think', 'people', 'stay', 'away', 'try', 'give', 'wholesome', 'message', 'ironically', 'mj', 'bestest', 'buddy', 'movie', 'girl', 'michael', 'jackson', 'truly', 'one', 'talented', 'people', 'ever', 'grace', 'planet', 'guilty', 'well', 'attention', 'gave', 'subject', 'hmmm', 'well', 'know', 'people', 'different', 'behind', 'closed', 'doors', 'know', 'fact', 'either', 'extremely', 'nice', 'stupid', 'guy', 'one', 'sickest', 'liars', 'hope', 'latter']\n"
          ],
          "name": "stdout"
        }
      ]
    },
    {
      "cell_type": "code",
      "metadata": {
        "id": "70JRErDXtvPl",
        "colab_type": "code",
        "colab": {
          "base_uri": "https://localhost:8080/",
          "height": 54
        },
        "outputId": "27278f85-623e-4fab-ff68-4e7c4e244bcb"
      },
      "source": [
        "clean_review = ' '.join(words) # 단어 리스트를 다시 하나의 글로 합친다\n",
        "print(clean_review)"
      ],
      "execution_count": 28,
      "outputs": [
        {
          "output_type": "stream",
          "text": [
            "stuff going moment mj started listening music watching odd documentary watched wiz watched moonwalker maybe want get certain insight guy thought really cool eighties maybe make mind whether guilty innocent moonwalker part biography part feature film remember going see cinema originally released subtle messages mj feeling towards press also obvious message drugs bad kay visually impressive course michael jackson unless remotely like mj anyway going hate find boring may call mj egotist consenting making movie mj fans would say made fans true really nice actual feature film bit finally starts minutes excluding smooth criminal sequence joe pesci convincing psychopathic powerful drug lord wants mj dead bad beyond mj overheard plans nah joe pesci character ranted wanted people know supplying drugs etc dunno maybe hates mj music lots cool things like mj turning car robot whole speed demon sequence also director must patience saint came filming kiddy bad sequence usually directors hate working one kid let alone whole bunch performing complex dance scene bottom line movie people like mj one level another think people stay away try give wholesome message ironically mj bestest buddy movie girl michael jackson truly one talented people ever grace planet guilty well attention gave subject hmmm well know people different behind closed doors know fact either extremely nice stupid guy one sickest liars hope latter\n"
          ],
          "name": "stdout"
        }
      ]
    },
    {
      "cell_type": "code",
      "metadata": {
        "id": "nwb6Q3qXuM5P",
        "colab_type": "code",
        "colab": {}
      },
      "source": [
        "# 모든 데이터에 적용하기 위한 함수\n",
        "def preprocessing(review,remove_stopwords = False):\n",
        "  # 불용어 제거는 옵션으로 선택 가능\n",
        "  \n",
        "  # 1. HTML 태그 제거\n",
        "  review_text = BeautifulSoup(review,'html5lib').get_text()\n",
        "  \n",
        "  # 2. 영어가 아닌 특수문자를 공백(' ')으로 바꾸기\n",
        "  review_text = re.sub(\"[^a-zA-Z]\",\" \",review_text)\n",
        "  \n",
        "  # 3. 대문자를 소문자로 바꾸고 공백 단위로 텍스트를 나눠서 리스트로 만든다\n",
        "  words = review_text.lower().split()\n",
        "  \n",
        "  if remove_stopwords:\n",
        "    # 4. 불용어 제거\n",
        "    # 영어 불용어 불러오기\n",
        "    stops = set(stopwords.words('english'))\n",
        "    # 불용어가 아닌 단어로 이뤄진 새로운 리스트 생성\n",
        "    words = [w for w in words if not w in stops]\n",
        "    \n",
        "    # 5. 단어 리스트를 공백을 넣어 하나의 글로 합침\n",
        "    clean_review = ' '.join(words)\n",
        "  else: # 불용어를 제거하지 않을 때\n",
        "    clean_review = ' '.join(words)\n",
        "  return clean_review"
      ],
      "execution_count": 0,
      "outputs": []
    },
    {
      "cell_type": "code",
      "metadata": {
        "id": "0h34m3pjx2l_",
        "colab_type": "code",
        "colab": {
          "base_uri": "https://localhost:8080/",
          "height": 90
        },
        "outputId": "4612e1d7-a772-44f4-e183-b74df4b300a1"
      },
      "source": [
        "clean_train_reviews = []\n",
        "for review in train_data['review']:\n",
        "  clean_train_reviews.append(preprocessing(review,remove_stopwords=True))\n",
        "#전처리한 데이터 확인\n",
        "clean_train_reviews[:3]"
      ],
      "execution_count": 32,
      "outputs": [
        {
          "output_type": "execute_result",
          "data": {
            "text/plain": [
              "['stuff going moment mj started listening music watching odd documentary watched wiz watched moonwalker maybe want get certain insight guy thought really cool eighties maybe make mind whether guilty innocent moonwalker part biography part feature film remember going see cinema originally released subtle messages mj feeling towards press also obvious message drugs bad kay visually impressive course michael jackson unless remotely like mj anyway going hate find boring may call mj egotist consenting making movie mj fans would say made fans true really nice actual feature film bit finally starts minutes excluding smooth criminal sequence joe pesci convincing psychopathic powerful drug lord wants mj dead bad beyond mj overheard plans nah joe pesci character ranted wanted people know supplying drugs etc dunno maybe hates mj music lots cool things like mj turning car robot whole speed demon sequence also director must patience saint came filming kiddy bad sequence usually directors hate working one kid let alone whole bunch performing complex dance scene bottom line movie people like mj one level another think people stay away try give wholesome message ironically mj bestest buddy movie girl michael jackson truly one talented people ever grace planet guilty well attention gave subject hmmm well know people different behind closed doors know fact either extremely nice stupid guy one sickest liars hope latter',\n",
              " 'classic war worlds timothy hines entertaining film obviously goes great effort lengths faithfully recreate h g wells classic book mr hines succeeds watched film appreciated fact standard predictable hollywood fare comes every year e g spielberg version tom cruise slightest resemblance book obviously everyone looks different things movie envision amateur critics look criticize everything others rate movie important bases like entertained people never agree critics enjoyed effort mr hines put faithful h g wells classic novel found entertaining made easy overlook critics perceive shortcomings',\n",
              " 'film starts manager nicholas bell giving welcome investors robert carradine primal park secret project mutating primal animal using fossilized dna like jurassik park scientists resurrect one nature fearsome predators sabretooth tiger smilodon scientific ambition turns deadly however high voltage fence opened creature escape begins savagely stalking prey human visitors tourists scientific meanwhile youngsters enter restricted area security center attacked pack large pre historical animals deadlier bigger addition security agent stacy haiduk mate brian wimmer fight hardly carnivorous smilodons sabretooths course real star stars astounding terrifyingly though convincing giant animals savagely stalking prey group run afoul fight one nature fearsome predators furthermore third sabretooth dangerous slow stalks victims movie delivers goods lots blood gore beheading hair raising chills full scares sabretooths appear mediocre special effects story provides exciting stirring entertainment results quite boring giant animals majority made computer generator seem totally lousy middling performances though players reacting appropriately becoming food actors give vigorously physical performances dodging beasts running bound leaps dangling walls packs ridiculous final deadly scene small kids realistic gory violent attack scenes films sabretooths smilodon following sabretooth james r hickox vanessa angel david keith john rhys davies much better bc roland emmerich steven strait cliff curtis camilla belle motion picture filled bloody moments badly directed george miller originality takes many elements previous films miller australian director usually working television tidal wave journey center earth many others occasionally cinema man snowy river zeus roxanne robinson crusoe rating average bottom barrel']"
            ]
          },
          "metadata": {
            "tags": []
          },
          "execution_count": 32
        }
      ]
    },
    {
      "cell_type": "code",
      "metadata": {
        "id": "idh_NUSfyanD",
        "colab_type": "code",
        "colab": {}
      },
      "source": [
        "# 데이터 프레임으로 저장\n",
        "clean_train_df = pd.DataFrame({'review':clean_train_reviews,'sentiment':train_data['sentiment']})"
      ],
      "execution_count": 0,
      "outputs": []
    },
    {
      "cell_type": "code",
      "metadata": {
        "id": "iQ-0PXeT0iGK",
        "colab_type": "code",
        "colab": {}
      },
      "source": [
        "### 모델에 사용하기 위해 입력값을 텍스트가 아닌 각 단어의 인덱스로 하며, 동일한 길이로 변환\n",
        "## 각 리뷰를 인덱스의 벡터로 구성\n",
        "tokenizer.fit_on_texts(clean_train_reviews)\n",
        "tokenizer = Tokenizer()\n",
        "text_sequences = tokenizer.texts_to_sequences(clean_train_reviews)"
      ],
      "execution_count": 0,
      "outputs": []
    },
    {
      "cell_type": "code",
      "metadata": {
        "id": "ZzZaD4kg1dza",
        "colab_type": "code",
        "colab": {
          "base_uri": "https://localhost:8080/",
          "height": 54
        },
        "outputId": "3180bcb7-a889-45c7-d901-ca1854e627ba"
      },
      "source": [
        "print(text_sequences[:3])"
      ],
      "execution_count": 35,
      "outputs": [
        {
          "output_type": "stream",
          "text": [
            "[[404, 70, 419, 8815, 506, 2456, 115, 54, 873, 516, 178, 18686, 178, 11242, 165, 78, 14, 662, 2457, 117, 92, 10, 499, 4074, 165, 22, 210, 581, 2333, 1194, 11242, 71, 4826, 71, 635, 2, 253, 70, 11, 302, 1663, 486, 1144, 3265, 8815, 411, 793, 3342, 17, 441, 600, 1500, 15, 4424, 1851, 998, 146, 342, 1442, 743, 2424, 4, 8815, 418, 70, 637, 69, 237, 94, 541, 8815, 26055, 26056, 120, 1, 8815, 323, 8, 47, 20, 323, 167, 10, 207, 633, 635, 2, 116, 291, 382, 121, 15535, 3315, 1501, 574, 734, 10013, 923, 11578, 822, 1239, 1408, 360, 8815, 221, 15, 576, 8815, 22224, 2274, 13426, 734, 10013, 27, 28606, 340, 16, 41, 18687, 1500, 388, 11243, 165, 3962, 8815, 115, 627, 499, 79, 4, 8815, 1430, 380, 2163, 114, 1919, 2503, 574, 17, 60, 100, 4875, 5100, 260, 1268, 26057, 15, 574, 493, 744, 637, 631, 3, 394, 164, 446, 114, 615, 3266, 1160, 684, 48, 1175, 224, 1, 16, 4, 8815, 3, 507, 62, 25, 16, 640, 133, 231, 95, 7426, 600, 3439, 8815, 37248, 1864, 1, 128, 342, 1442, 247, 3, 865, 16, 42, 1487, 997, 2333, 12, 549, 386, 717, 6920, 12, 41, 16, 158, 362, 4392, 3388, 41, 87, 225, 438, 207, 254, 117, 3, 18688, 18689, 316, 1356], [232, 203, 3048, 3565, 7116, 317, 2, 405, 153, 19, 634, 10967, 11898, 8816, 1653, 1035, 3494, 232, 154, 314, 7116, 2701, 178, 2, 2349, 87, 1111, 582, 217, 2219, 149, 73, 160, 626, 1035, 2882, 194, 642, 3316, 3464, 3869, 154, 405, 180, 155, 158, 79, 1, 19718, 2177, 1251, 68, 6828, 170, 281, 811, 1, 532, 10968, 4, 2003, 16, 36, 881, 1251, 376, 634, 314, 7116, 159, 2564, 1653, 1035, 3494, 232, 511, 143, 317, 20, 623, 4628, 1251, 8974, 5471], [2, 382, 2818, 4393, 3730, 598, 2184, 17788, 518, 4313, 9355, 1328, 837, 1012, 37249, 9355, 1435, 624, 46199, 11244, 4, 37250, 1328, 3102, 11245, 3, 714, 18690, 13004, 9550, 4592, 32129, 3542, 5590, 374, 2305, 86, 193, 19719, 8332, 2869, 1443, 924, 630, 13891, 6048, 4954, 279, 9778, 8817, 3542, 1920, 8500, 2350, 10474, 1454, 2366, 2046, 2827, 2911, 899, 1569, 1217, 1208, 37251, 1791, 1416, 2366, 1362, 12248, 37252, 3465, 1396, 37253, 409, 832, 22225, 46200, 22226, 146, 53, 201, 256, 6135, 16218, 55, 923, 1301, 1208, 13891, 6048, 4954, 459, 384, 16219, 409, 3, 714, 18690, 13004, 3900, 687, 9550, 1656, 413, 8818, 1308, 1, 1382, 6301, 627, 399, 455, 15536, 991, 4314, 5218, 244, 2425, 22226, 824, 1350, 198, 183, 9, 1403, 968, 8023, 571, 1750, 77, 237, 1301, 1208, 1999, 20, 1064, 18691, 191, 354, 2143, 17789, 233, 55, 1684, 12249, 5048, 1409, 1472, 59, 95, 19720, 1578, 233, 15537, 13427, 481, 2552, 8666, 13005, 3227, 6218, 505, 344, 2305, 48, 266, 229, 672, 2030, 953, 1109, 49, 30, 22226, 32129, 891, 9550, 439, 1078, 22227, 5591, 2064, 466, 4556, 182, 8975, 3300, 13, 44, 13428, 10724, 28607, 1975, 15538, 3731, 3072, 16986, 7427, 1110, 304, 906, 1602, 262, 759, 392, 578, 2674, 2656, 187, 32, 645, 808, 30, 2674, 2251, 60, 493, 631, 551, 23948, 2635, 1123, 2046, 534, 32, 281, 1875, 302, 43, 8501, 1671, 23949, 23950, 4356, 32130, 535, 700, 1175, 5310]]\n"
          ],
          "name": "stdout"
        }
      ]
    },
    {
      "cell_type": "code",
      "metadata": {
        "id": "B4YLicqJ1i05",
        "colab_type": "code",
        "colab": {}
      },
      "source": [
        "# 인덱스에 매칭 되는 단어 사전\n",
        "word_vocab = tokenizer.word_index\n",
        "print(word_vocab)"
      ],
      "execution_count": 0,
      "outputs": []
    },
    {
      "cell_type": "code",
      "metadata": {
        "id": "IIcBSJfS1rti",
        "colab_type": "code",
        "colab": {
          "base_uri": "https://localhost:8080/",
          "height": 34
        },
        "outputId": "93390ffa-ab01-4062-98fe-416fe0fd2ae0"
      },
      "source": [
        "print(\"전체 단어 개수 : \",len(word_vocab))"
      ],
      "execution_count": 37,
      "outputs": [
        {
          "output_type": "stream",
          "text": [
            "전체 단어 개수 :  74065\n"
          ],
          "name": "stdout"
        }
      ]
    },
    {
      "cell_type": "code",
      "metadata": {
        "id": "UOMR6IAP2EpB",
        "colab_type": "code",
        "colab": {}
      },
      "source": [
        "# 데이터의 정보를 저장(단어 사전, 단어 개수)\n",
        "data_configs = {}\n",
        "\n",
        "data_configs['vocab'] = word_vocab\n",
        "data_configs['vocab_size'] = len(word_vocab) + 1"
      ],
      "execution_count": 0,
      "outputs": []
    },
    {
      "cell_type": "code",
      "metadata": {
        "id": "6zMN5mx78PNa",
        "colab_type": "code",
        "colab": {
          "base_uri": "https://localhost:8080/",
          "height": 34
        },
        "outputId": "acd69910-23bf-4db0-fcb9-6e283a0a9510"
      },
      "source": [
        "## 데이터의 길이를 통일\n",
        "# 긴 데이터는 뒷 부분을 자르고, 짧은 데이터는 0값으로 패딩\n",
        "MAX_SEQUENCE_LENGCE = 174 # 문장 최대 길이(중간값) -> 이상치때문에 평균을 사용하지 않는다\n",
        "train_inputs = pad_sequences(text_sequences, maxlen=MAX_SEQUENCE_LENGCE, padding='post') # padding을 통해 모두 174라는 동일한 길이를 가지게 된다.\n",
        "print('Shape of train data : ',train_inputs.shape)"
      ],
      "execution_count": 41,
      "outputs": [
        {
          "output_type": "stream",
          "text": [
            "Shape of train data :  (25000, 174)\n"
          ],
          "name": "stdout"
        }
      ]
    },
    {
      "cell_type": "code",
      "metadata": {
        "id": "mQFh9BNK9PJA",
        "colab_type": "code",
        "colab": {
          "base_uri": "https://localhost:8080/",
          "height": 34
        },
        "outputId": "c1285b51-1c71-4b66-e8b9-ea69c60be877"
      },
      "source": [
        "# numpy 배열로 변환\n",
        "train_labels = np.array(train_data['sentiment'])\n",
        "print('Shape of label tensor : ',train_labels.shape) # 길이가 25000인 벡터로 변환"
      ],
      "execution_count": 42,
      "outputs": [
        {
          "output_type": "stream",
          "text": [
            "Shape of label tensor :  (25000,)\n"
          ],
          "name": "stdout"
        }
      ]
    },
    {
      "cell_type": "code",
      "metadata": {
        "id": "qvfQVLEq-AmT",
        "colab_type": "code",
        "colab": {}
      },
      "source": [
        "### 데이터 저장\n",
        "# 총 4개의 데이터로 저장\n",
        "# 정제된 텍스트 데이터, 벡터화한 데이터, 정답 라벨, 데이터 정보\n",
        "DATA_IN_PATH = '/content/'\n",
        "TRAIN_INPUT_DATA = 'train_input.npy'\n",
        "TRAIN_LABEL_DATA = 'train_label.npy'\n",
        "TRAIN_CLEAN_DATA = 'train_clean.csv'\n",
        "DATA_CONFIGS = 'data_configs.json'\n",
        "# DATA_OUT_PATH = './data_out/'\n",
        "# import os\n",
        "# if not os.path.exists(DATA_OUT_PATH):\n",
        "#   os.makedirs(DATA_OUT_PATH)"
      ],
      "execution_count": 0,
      "outputs": []
    },
    {
      "cell_type": "code",
      "metadata": {
        "id": "HqX2rGJ5AZHs",
        "colab_type": "code",
        "colab": {}
      },
      "source": [
        "# 전처리된 데이터를 numpy로 저장\n",
        "np.save(open(DATA_IN_PATH + TRAIN_INPUT_DATA,\"wb\"),train_inputs)\n",
        "np.save(open(DATA_IN_PATH + TRAIN_LABEL_DATA,\"wb\"),train_labels)\n",
        "\n",
        "# 정제된 텍스트를 csv 형태로 저장\n",
        "clean_train_df.to_csv(DATA_IN_PATH + TRAIN_CLEAN_DATA, index=False)\n",
        "\n",
        "# 데이터 사정을 JSON 형태로 저장\n",
        "json.dump(data_configs, open(DATA_IN_PATH + DATA_CONFIGS,'w'),ensure_ascii=False)"
      ],
      "execution_count": 0,
      "outputs": []
    },
    {
      "cell_type": "code",
      "metadata": {
        "id": "43__IDy6CM1P",
        "colab_type": "code",
        "colab": {}
      },
      "source": [
        "# 평가 데이터도 동일하게 전처리 -> 다른점은 label 데이터가 없고 word_vocab은 train에서 만들어 놓은 것을 사용\n",
        "test_data = pd.read_csv(DATA_IN_PATH + \"testData.tsv\",header=0,delimiter='\\t',quoting=3)\n",
        "clean_test_reviews=[]"
      ],
      "execution_count": 0,
      "outputs": []
    },
    {
      "cell_type": "code",
      "metadata": {
        "id": "eLeRX8uJDFJ_",
        "colab_type": "code",
        "colab": {}
      },
      "source": [
        "for reviews in test_data['review']:\n",
        "  clean_test_reviews.append(preprocessing(review,remove_stopwords=True))\n",
        "clean_test_df = pd.DataFrame({'review':clean_test_reviews,'id':test_data['id']})\n",
        "test_id = np.array(test_data['id'])\n",
        "\n",
        "text_sequences = tokenizer.texts_to_sequences(clean_test_reviews)\n",
        "test_inputs = pad_sequences(text_sequences,maxlen=MAX_SEQUENCE_LENGCE,padding='post')"
      ],
      "execution_count": 0,
      "outputs": []
    },
    {
      "cell_type": "code",
      "metadata": {
        "id": "cSZiHQ7xFFZn",
        "colab_type": "code",
        "colab": {}
      },
      "source": [
        "TEST_INPUT_DATA = 'test_input.npy'\n",
        "TEST_CLEAN_DATA = 'test_clean.csv'\n",
        "TEST_ID_DATA = 'test_id.npy'\n",
        "\n",
        "np.save(open(DATA_IN_PATH + TEST_INPUT_DATA,'wb'),test_inputs)\n",
        "np.save(open(DATA_IN_PATH + TEST_ID_DATA,'wb'),test_id)\n",
        "clean_test_df.to_csv(DATA_IN_PATH + TEST_ID_DATA,index=False)"
      ],
      "execution_count": 0,
      "outputs": []
    }
  ]
}