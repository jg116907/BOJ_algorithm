{
  "nbformat": 4,
  "nbformat_minor": 0,
  "metadata": {
    "colab": {
      "name": "Tensorflow_basic_data.ipynb",
      "version": "0.3.2",
      "provenance": [],
      "collapsed_sections": []
    },
    "kernelspec": {
      "name": "python3",
      "display_name": "Python 3"
    }
  },
  "cells": [
    {
      "cell_type": "markdown",
      "metadata": {
        "id": "Lq9JQyFIt7rA",
        "colab_type": "text"
      },
      "source": [
        "# Tensorflow Basic - tf.data"
      ]
    },
    {
      "cell_type": "markdown",
      "metadata": {
        "id": "zv9Zfoa1sfGJ",
        "colab_type": "text"
      },
      "source": [
        "## tf.data\n",
        "- tensorflow 2.0 에서 새롭게 추가된 모듈\n",
        "- tf.placeholder, tf.feed_dict를 통해 데이터를 처리했던 불편한 방식을 극복"
      ]
    },
    {
      "cell_type": "code",
      "metadata": {
        "id": "Eia3exqPtwTG",
        "colab_type": "code",
        "colab": {}
      },
      "source": [
        "import os\n",
        "import tensorflow as tf\n",
        "import numpy as np\n",
        "\n",
        "from tensorflow.keras import preprocessing # 텍스트 데이터 전처리를 위해 import"
      ],
      "execution_count": 0,
      "outputs": []
    },
    {
      "cell_type": "markdown",
      "metadata": {
        "id": "dK93eWHxpr65",
        "colab_type": "text"
      },
      "source": [
        "## 전처리"
      ]
    },
    {
      "cell_type": "code",
      "metadata": {
        "id": "bXi8BKAretNK",
        "colab_type": "code",
        "colab": {}
      },
      "source": [
        "samples = ['너 오늘 이뻐 보인다',\n",
        "         '나는 오늘 기분이 더러워',\n",
        "         '끝내주는데, 좋은 일이 있나봐',\n",
        "         '나 좋은 일이 생겼어',\n",
        "         '아 오늘 진짜 짜증나',\n",
        "         '환상적인데, 정말 좋은거 같아']\n",
        "\n",
        "label = [[1],[0],[1],[1],[0],[1]] # 라벨 임의 설정 "
      ],
      "execution_count": 0,
      "outputs": []
    },
    {
      "cell_type": "code",
      "metadata": {
        "id": "lCNKqETvfu-j",
        "colab_type": "code",
        "colab": {}
      },
      "source": [
        "# 텍스트로 구성된 데이터에서 각 단어를 단어의 인덱스로 변경(수치화)\n",
        "tokenizer = preprocessing.text.Tokenizer()\n",
        "tokenizer.fit_on_texts(samples)\n",
        "sequences = tokenizer.texts_to_sequences(samples)\n",
        "\n",
        "word_index = tokenizer.word_index"
      ],
      "execution_count": 0,
      "outputs": []
    },
    {
      "cell_type": "code",
      "metadata": {
        "id": "fYAZrPGYgnvd",
        "colab_type": "code",
        "colab": {
          "base_uri": "https://localhost:8080/",
          "height": 125
        },
        "outputId": "5814cc73-16aa-4550-cd57-53de4486da38"
      },
      "source": [
        "print('수치화한 텍스트 데이터 : \\n',sequences)\n",
        "print('각 단어의 인덱스 : \\n',word_index)\n",
        "print('라벨 : ',label)"
      ],
      "execution_count": 5,
      "outputs": [
        {
          "output_type": "stream",
          "text": [
            "수치화한 텍스트 데이터 : \n",
            " [[4, 1, 5, 6], [7, 1, 8, 9], [10, 2, 3, 11], [12, 2, 3, 13], [14, 1, 15, 16], [17, 18, 19, 20]]\n",
            "각 단어의 인덱스 : \n",
            " {'오늘': 1, '좋은': 2, '일이': 3, '너': 4, '이뻐': 5, '보인다': 6, '나는': 7, '기분이': 8, '더러워': 9, '끝내주는데': 10, '있나봐': 11, '나': 12, '생겼어': 13, '아': 14, '진짜': 15, '짜증나': 16, '환상적인데': 17, '정말': 18, '좋은거': 19, '같아': 20}\n",
            "라벨 :  [[1], [0], [1], [1], [0], [1]]\n"
          ],
          "name": "stdout"
        }
      ]
    },
    {
      "cell_type": "code",
      "metadata": {
        "id": "KO3zg1uKhCo5",
        "colab_type": "code",
        "colab": {
          "base_uri": "https://localhost:8080/",
          "height": 90
        },
        "outputId": "57b763e0-2423-429d-fc4a-552c788d4a84"
      },
      "source": [
        "dataset = tf.data.Dataset.from_tensor_slices((sequences, label)) # 두 데이터를 묶어준다\n",
        "iterator = dataset.make_one_shot_iterator() # 데이터를 하나씩 사용할 수 있도록 한다\n",
        "next_data = iterator.get_next()"
      ],
      "execution_count": 6,
      "outputs": [
        {
          "output_type": "stream",
          "text": [
            "WARNING:tensorflow:From <ipython-input-6-24fc0dc4c05d>:2: DatasetV1.make_one_shot_iterator (from tensorflow.python.data.ops.dataset_ops) is deprecated and will be removed in a future version.\n",
            "Instructions for updating:\n",
            "Use `for ... in dataset:` to iterate over a dataset. If using `tf.estimator`, return the `Dataset` object directly from your input function. As a last resort, you can use `tf.compat.v1.data.make_one_shot_iterator(dataset)`.\n"
          ],
          "name": "stdout"
        }
      ]
    },
    {
      "cell_type": "code",
      "metadata": {
        "id": "p0UiqjyVkbc1",
        "colab_type": "code",
        "colab": {
          "base_uri": "https://localhost:8080/",
          "height": 122
        },
        "outputId": "9a7e8d11-f315-49d7-a614-530f6c196ade"
      },
      "source": [
        "#iterator를 이용해 하나씩 출력\n",
        "with tf.Session() as sess:\n",
        "  while True:\n",
        "    try:\n",
        "      print(sess.run(next_data))\n",
        "    except tf.errors.OutOfRangeError: # 더 이상 불러올 데이터가 없으면 break\n",
        "      break"
      ],
      "execution_count": 7,
      "outputs": [
        {
          "output_type": "stream",
          "text": [
            "(array([4, 1, 5, 6], dtype=int32), array([1], dtype=int32))\n",
            "(array([7, 1, 8, 9], dtype=int32), array([0], dtype=int32))\n",
            "(array([10,  2,  3, 11], dtype=int32), array([1], dtype=int32))\n",
            "(array([12,  2,  3, 13], dtype=int32), array([1], dtype=int32))\n",
            "(array([14,  1, 15, 16], dtype=int32), array([0], dtype=int32))\n",
            "(array([17, 18, 19, 20], dtype=int32), array([1], dtype=int32))\n"
          ],
          "name": "stdout"
        }
      ]
    },
    {
      "cell_type": "markdown",
      "metadata": {
        "id": "kY8mYDfup0aN",
        "colab_type": "text"
      },
      "source": [
        "## 기능 1. Batch"
      ]
    },
    {
      "cell_type": "code",
      "metadata": {
        "id": "Evld2e5kmCP4",
        "colab_type": "code",
        "colab": {
          "base_uri": "https://localhost:8080/",
          "height": 175
        },
        "outputId": "6a5b61ee-ea43-442d-f3b6-e68f347bc2c3"
      },
      "source": [
        "# batch 사용 : 전체 데이터를 주어진 크기 만큼 분할해서 사용\n",
        "BATCH_SIZE = 2\n",
        "\n",
        "dataset = tf.data.Dataset.from_tensor_slices((sequences,label))\n",
        "dataset = dataset.batch(BATCH_SIZE) # dataset의 batch 설정\n",
        "iterator = dataset.make_one_shot_iterator()\n",
        "next_data = iterator.get_next()\n",
        "\n",
        "with tf.Session() as sess:\n",
        "  while True:\n",
        "    try:\n",
        "      print(sess.run(next_data)) # batch size가 2이기 때문에 2개 씩 출력\n",
        "    except tf.errors.OutOfRangeError:\n",
        "      break"
      ],
      "execution_count": 24,
      "outputs": [
        {
          "output_type": "stream",
          "text": [
            "(array([[4, 1, 5, 6],\n",
            "       [7, 1, 8, 9]], dtype=int32), array([[1],\n",
            "       [0]], dtype=int32))\n",
            "(array([[10,  2,  3, 11],\n",
            "       [12,  2,  3, 13]], dtype=int32), array([[1],\n",
            "       [1]], dtype=int32))\n",
            "(array([[14,  1, 15, 16],\n",
            "       [17, 18, 19, 20]], dtype=int32), array([[0],\n",
            "       [1]], dtype=int32))\n"
          ],
          "name": "stdout"
        }
      ]
    },
    {
      "cell_type": "markdown",
      "metadata": {
        "id": "zmLcUISTp6rY",
        "colab_type": "text"
      },
      "source": [
        "## 기능 2. Shuffle"
      ]
    },
    {
      "cell_type": "code",
      "metadata": {
        "id": "DDxPk2ccnm0m",
        "colab_type": "code",
        "colab": {
          "base_uri": "https://localhost:8080/",
          "height": 122
        },
        "outputId": "f5f8d692-869a-453f-a31e-93a831ae197b"
      },
      "source": [
        "# shuffle 사용 : 데이터가 섞여서 출력 -> 모델 성능 향상에 사용\n",
        "dataset = tf.data.Dataset.from_tensor_slices((sequences,label))\n",
        "dataset = dataset.shuffle(len(sequences)) # 데이터의 길이를 인자로 주면 전체 데이터에 대해 셔플\n",
        "iterator = dataset.make_one_shot_iterator()\n",
        "next_data = iterator.get_next()\n",
        "\n",
        "with tf.Session() as sess:\n",
        "  while True:\n",
        "    try:\n",
        "      print(sess.run(next_data))\n",
        "    except tf.errors.OutOfRangeError:\n",
        "      break"
      ],
      "execution_count": 25,
      "outputs": [
        {
          "output_type": "stream",
          "text": [
            "(array([14,  1, 15, 16], dtype=int32), array([0], dtype=int32))\n",
            "(array([17, 18, 19, 20], dtype=int32), array([1], dtype=int32))\n",
            "(array([7, 1, 8, 9], dtype=int32), array([0], dtype=int32))\n",
            "(array([12,  2,  3, 13], dtype=int32), array([1], dtype=int32))\n",
            "(array([4, 1, 5, 6], dtype=int32), array([1], dtype=int32))\n",
            "(array([10,  2,  3, 11], dtype=int32), array([1], dtype=int32))\n"
          ],
          "name": "stdout"
        }
      ]
    },
    {
      "cell_type": "markdown",
      "metadata": {
        "id": "v1f2MKkRp_lE",
        "colab_type": "text"
      },
      "source": [
        "## 기능 3. Epoch"
      ]
    },
    {
      "cell_type": "code",
      "metadata": {
        "id": "Ev4G0oQOooX_",
        "colab_type": "code",
        "colab": {
          "base_uri": "https://localhost:8080/",
          "height": 228
        },
        "outputId": "e437750a-af89-493f-93a0-beafcba01e6e"
      },
      "source": [
        "# epoch 사용 : 전체 데이터를 몇 번 반복해서 불러올것인지 설정\n",
        "EPOCH = 2\n",
        "\n",
        "dataset = tf.data.Dataset.from_tensor_slices((sequences,label))\n",
        "dataset = dataset.repeat(EPOCH) # 데이터의 길이를 인자로 주면 전체 데이터에 대해 셔플\n",
        "iterator = dataset.make_one_shot_iterator()\n",
        "next_data = iterator.get_next()\n",
        "\n",
        "with tf.Session() as sess:\n",
        "  while True:\n",
        "    try:\n",
        "      print(sess.run(next_data))\n",
        "    except tf.errors.OutOfRangeError:\n",
        "      break"
      ],
      "execution_count": 26,
      "outputs": [
        {
          "output_type": "stream",
          "text": [
            "(array([4, 1, 5, 6], dtype=int32), array([1], dtype=int32))\n",
            "(array([7, 1, 8, 9], dtype=int32), array([0], dtype=int32))\n",
            "(array([10,  2,  3, 11], dtype=int32), array([1], dtype=int32))\n",
            "(array([12,  2,  3, 13], dtype=int32), array([1], dtype=int32))\n",
            "(array([14,  1, 15, 16], dtype=int32), array([0], dtype=int32))\n",
            "(array([17, 18, 19, 20], dtype=int32), array([1], dtype=int32))\n",
            "(array([4, 1, 5, 6], dtype=int32), array([1], dtype=int32))\n",
            "(array([7, 1, 8, 9], dtype=int32), array([0], dtype=int32))\n",
            "(array([10,  2,  3, 11], dtype=int32), array([1], dtype=int32))\n",
            "(array([12,  2,  3, 13], dtype=int32), array([1], dtype=int32))\n",
            "(array([14,  1, 15, 16], dtype=int32), array([0], dtype=int32))\n",
            "(array([17, 18, 19, 20], dtype=int32), array([1], dtype=int32))\n"
          ],
          "name": "stdout"
        }
      ]
    },
    {
      "cell_type": "markdown",
      "metadata": {
        "id": "_dKqgcUaqE-U",
        "colab_type": "text"
      },
      "source": [
        "## 기능 4. Mapping"
      ]
    },
    {
      "cell_type": "code",
      "metadata": {
        "id": "G8yRrSQ8pV3W",
        "colab_type": "code",
        "colab": {
          "base_uri": "https://localhost:8080/",
          "height": 122
        },
        "outputId": "8e36f7ad-0092-4fb6-95cc-3065b4098446"
      },
      "source": [
        "# mapping 사용 : 라벨을 제외한 나머지 데이터를 하나의 입력값으로 묶기 위해 사용 -> 모델에 따라 입력값이 두 개 이상일 때 사용\n",
        "def mapping_fn(X,Y=None):\n",
        "  input = {'x':X}\n",
        "  label = Y\n",
        "  return input, label\n",
        "\n",
        "dataset = tf.data.Dataset.from_tensor_slices((sequences,label))\n",
        "dataset = dataset.map(mapping_fn)\n",
        "iterator = dataset.make_one_shot_iterator()\n",
        "next_data = iterator.get_next()\n",
        "\n",
        "with tf.Session() as sess:\n",
        "  while True:\n",
        "    try:\n",
        "      print(sess.run(next_data))\n",
        "    except tf.errors.OutOfRangeError:\n",
        "      break"
      ],
      "execution_count": 28,
      "outputs": [
        {
          "output_type": "stream",
          "text": [
            "({'x': array([4, 1, 5, 6], dtype=int32)}, array([1], dtype=int32))\n",
            "({'x': array([7, 1, 8, 9], dtype=int32)}, array([0], dtype=int32))\n",
            "({'x': array([10,  2,  3, 11], dtype=int32)}, array([1], dtype=int32))\n",
            "({'x': array([12,  2,  3, 13], dtype=int32)}, array([1], dtype=int32))\n",
            "({'x': array([14,  1, 15, 16], dtype=int32)}, array([0], dtype=int32))\n",
            "({'x': array([17, 18, 19, 20], dtype=int32)}, array([1], dtype=int32))\n"
          ],
          "name": "stdout"
        }
      ]
    },
    {
      "cell_type": "markdown",
      "metadata": {
        "id": "IXKJdBDtfcTs",
        "colab_type": "text"
      },
      "source": [
        "## 위 4 개의 기능을 통합"
      ]
    },
    {
      "cell_type": "code",
      "metadata": {
        "id": "6Wx99OgltJ62",
        "colab_type": "code",
        "colab": {
          "base_uri": "https://localhost:8080/",
          "height": 334
        },
        "outputId": "c3536275-f608-4f42-fae2-27c1f0617c8f"
      },
      "source": [
        "BATCH_SIZE = 2\n",
        "EPOCH = 2\n",
        "\n",
        "def mapping_fn(X,Y=None):\n",
        "  input = {'x':X}\n",
        "  label = Y\n",
        "  return input, label\n",
        "\n",
        "dataset = tf.data.Dataset.from_tensor_slices((sequences,label))\n",
        "dataset = dataset.map(mapping_fn)\n",
        "dataset = dataset.shuffle(len(sequences))\n",
        "dataset = dataset.batch(BATCH_SIZE)\n",
        "dataset = dataset.repeat(EPOCH)\n",
        "iterator = dataset.make_one_shot_iterator()\n",
        "next_data = iterator.get_next()\n",
        "\n",
        "with tf.Session() as sess:\n",
        "  while True:\n",
        "    try:\n",
        "      print(sess.run(next_data))\n",
        "    except tf.errors.OutOfRangeError:\n",
        "      break"
      ],
      "execution_count": 8,
      "outputs": [
        {
          "output_type": "stream",
          "text": [
            "({'x': array([[ 4,  1,  5,  6],\n",
            "       [12,  2,  3, 13]], dtype=int32)}, array([[1],\n",
            "       [1]], dtype=int32))\n",
            "({'x': array([[17, 18, 19, 20],\n",
            "       [14,  1, 15, 16]], dtype=int32)}, array([[1],\n",
            "       [0]], dtype=int32))\n",
            "({'x': array([[ 7,  1,  8,  9],\n",
            "       [10,  2,  3, 11]], dtype=int32)}, array([[0],\n",
            "       [1]], dtype=int32))\n",
            "({'x': array([[ 4,  1,  5,  6],\n",
            "       [17, 18, 19, 20]], dtype=int32)}, array([[1],\n",
            "       [1]], dtype=int32))\n",
            "({'x': array([[12,  2,  3, 13],\n",
            "       [14,  1, 15, 16]], dtype=int32)}, array([[1],\n",
            "       [0]], dtype=int32))\n",
            "({'x': array([[ 7,  1,  8,  9],\n",
            "       [10,  2,  3, 11]], dtype=int32)}, array([[0],\n",
            "       [1]], dtype=int32))\n"
          ],
          "name": "stdout"
        }
      ]
    },
    {
      "cell_type": "code",
      "metadata": {
        "id": "ukMOSfPsgY6H",
        "colab_type": "code",
        "colab": {}
      },
      "source": [
        ""
      ],
      "execution_count": 0,
      "outputs": []
    }
  ]
}